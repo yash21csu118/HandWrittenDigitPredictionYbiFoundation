{
  "cells": [
    {
      "cell_type": "markdown",
      "id": "f9b90f80",
      "metadata": {
        "id": "f9b90f80"
      },
      "source": [
        "# **Title of Project**"
      ]
    },
    {
      "cell_type": "markdown",
      "id": "cdcf80c6",
      "metadata": {
        "id": "cdcf80c6",
        "papermill": {
          "duration": 0.014983,
          "end_time": "2023-08-04T16:29:08.803551",
          "exception": false,
          "start_time": "2023-08-04T16:29:08.788568",
          "status": "completed"
        },
        "tags": []
      },
      "source": [
        "\n",
        "**Hand Written Digit Prediction - Classification Analysis**\n",
        "\\\n",
        "*by: Yash Gaur*\n"
      ]
    },
    {
      "cell_type": "markdown",
      "id": "103e63f0",
      "metadata": {
        "id": "103e63f0"
      },
      "source": [
        "# **Objective**"
      ]
    },
    {
      "cell_type": "markdown",
      "id": "c8f23454",
      "metadata": {
        "id": "c8f23454",
        "papermill": {
          "duration": 0.014092,
          "end_time": "2023-08-04T16:29:08.832453",
          "exception": false,
          "start_time": "2023-08-04T16:29:08.818361",
          "status": "completed"
        },
        "tags": []
      },
      "source": [
        "The digits dataset consists of 8x8 pixel images pf digits. The images attribute of the dataset stores 8x8 arrays of grayscale values for each image. we will use these arrays to visualize the first 4 images.The target attritube of the dataset stores the digit each image represents."
      ]
    },
    {
      "cell_type": "markdown",
      "id": "2990e20b",
      "metadata": {
        "id": "2990e20b"
      },
      "source": [
        "# **Data Source**\n"
      ]
    },
    {
      "cell_type": "code",
      "execution_count": null,
      "id": "83c8cde3",
      "metadata": {
        "id": "83c8cde3"
      },
      "outputs": [],
      "source": [
        "ybi foundation - youtube : https://youtu.be/UD6co1HVpO4?feature=shared"
      ]
    },
    {
      "cell_type": "markdown",
      "id": "d09ad1c8",
      "metadata": {
        "id": "d09ad1c8",
        "papermill": {
          "duration": 0.014029,
          "end_time": "2023-08-04T16:29:08.891646",
          "exception": false,
          "start_time": "2023-08-04T16:29:08.877617",
          "status": "completed"
        },
        "tags": []
      },
      "source": [
        "# **Import Library**"
      ]
    },
    {
      "cell_type": "code",
      "execution_count": null,
      "id": "be4fc18c",
      "metadata": {
        "execution": {
          "iopub.execute_input": "2023-08-04T16:29:08.924741Z",
          "iopub.status.busy": "2023-08-04T16:29:08.924141Z",
          "iopub.status.idle": "2023-08-04T16:29:08.938738Z",
          "shell.execute_reply": "2023-08-04T16:29:08.937751Z"
        },
        "id": "be4fc18c",
        "papermill": {
          "duration": 0.033793,
          "end_time": "2023-08-04T16:29:08.941423",
          "exception": false,
          "start_time": "2023-08-04T16:29:08.907630",
          "status": "completed"
        },
        "tags": []
      },
      "outputs": [],
      "source": [
        "import pandas as pd"
      ]
    },
    {
      "cell_type": "code",
      "execution_count": null,
      "id": "a7ab333b",
      "metadata": {
        "execution": {
          "iopub.execute_input": "2023-08-04T16:29:08.972835Z",
          "iopub.status.busy": "2023-08-04T16:29:08.972393Z",
          "iopub.status.idle": "2023-08-04T16:29:08.977508Z",
          "shell.execute_reply": "2023-08-04T16:29:08.976130Z"
        },
        "id": "a7ab333b",
        "papermill": {
          "duration": 0.024024,
          "end_time": "2023-08-04T16:29:08.980109",
          "exception": false,
          "start_time": "2023-08-04T16:29:08.956085",
          "status": "completed"
        },
        "tags": []
      },
      "outputs": [],
      "source": [
        "import numpy as np"
      ]
    },
    {
      "cell_type": "code",
      "execution_count": null,
      "id": "dd995c54",
      "metadata": {
        "execution": {
          "iopub.execute_input": "2023-08-04T16:29:09.011651Z",
          "iopub.status.busy": "2023-08-04T16:29:09.010978Z",
          "iopub.status.idle": "2023-08-04T16:29:09.016481Z",
          "shell.execute_reply": "2023-08-04T16:29:09.015216Z"
        },
        "id": "dd995c54",
        "papermill": {
          "duration": 0.024581,
          "end_time": "2023-08-04T16:29:09.019135",
          "exception": false,
          "start_time": "2023-08-04T16:29:08.994554",
          "status": "completed"
        },
        "tags": []
      },
      "outputs": [],
      "source": [
        "import matplotlib.pyplot as plt"
      ]
    },
    {
      "cell_type": "markdown",
      "id": "f021a1f7",
      "metadata": {
        "id": "f021a1f7",
        "papermill": {
          "duration": 0.014009,
          "end_time": "2023-08-04T16:29:09.047514",
          "exception": false,
          "start_time": "2023-08-04T16:29:09.033505",
          "status": "completed"
        },
        "tags": []
      },
      "source": [
        "# **Import Data**"
      ]
    },
    {
      "cell_type": "code",
      "execution_count": null,
      "id": "6551ffcf",
      "metadata": {
        "execution": {
          "iopub.execute_input": "2023-08-04T16:29:09.078670Z",
          "iopub.status.busy": "2023-08-04T16:29:09.078187Z",
          "iopub.status.idle": "2023-08-04T16:29:10.649059Z",
          "shell.execute_reply": "2023-08-04T16:29:10.647600Z"
        },
        "id": "6551ffcf",
        "papermill": {
          "duration": 1.590429,
          "end_time": "2023-08-04T16:29:10.652406",
          "exception": false,
          "start_time": "2023-08-04T16:29:09.061977",
          "status": "completed"
        },
        "tags": [],
        "outputId": "bc8078a2-6893-4e85-b1b2-6aa3fdf9ce6f"
      },
      "outputs": [
        {
          "name": "stderr",
          "output_type": "stream",
          "text": [
            "/opt/conda/lib/python3.10/site-packages/scipy/__init__.py:146: UserWarning: A NumPy version >=1.16.5 and <1.23.0 is required for this version of SciPy (detected version 1.23.5\n",
            "  warnings.warn(f\"A NumPy version >={np_minversion} and <{np_maxversion}\"\n"
          ]
        }
      ],
      "source": [
        "from sklearn.datasets import load_digits"
      ]
    },
    {
      "cell_type": "markdown",
      "id": "ed741402",
      "metadata": {
        "id": "ed741402",
        "papermill": {
          "duration": 0.014221,
          "end_time": "2023-08-04T16:29:10.682811",
          "exception": false,
          "start_time": "2023-08-04T16:29:10.668590",
          "status": "completed"
        },
        "tags": []
      },
      "source": [
        "# **Describe Data**"
      ]
    },
    {
      "cell_type": "code",
      "execution_count": null,
      "id": "9f5f9618",
      "metadata": {
        "execution": {
          "iopub.execute_input": "2023-08-04T16:29:10.714287Z",
          "iopub.status.busy": "2023-08-04T16:29:10.713792Z",
          "iopub.status.idle": "2023-08-04T16:29:10.744236Z",
          "shell.execute_reply": "2023-08-04T16:29:10.743145Z"
        },
        "id": "9f5f9618",
        "papermill": {
          "duration": 0.049751,
          "end_time": "2023-08-04T16:29:10.747324",
          "exception": false,
          "start_time": "2023-08-04T16:29:10.697573",
          "status": "completed"
        },
        "tags": []
      },
      "outputs": [],
      "source": [
        "df = load_digits()"
      ]
    },
    {
      "cell_type": "markdown",
      "id": "a2f3c0a8",
      "metadata": {
        "id": "a2f3c0a8",
        "papermill": {
          "duration": 0.014633,
          "end_time": "2023-08-04T16:29:10.776925",
          "exception": false,
          "start_time": "2023-08-04T16:29:10.762292",
          "status": "completed"
        },
        "tags": []
      },
      "source": [
        "# **Data Visualization**"
      ]
    },
    {
      "cell_type": "code",
      "execution_count": null,
      "id": "8ca5e488",
      "metadata": {
        "execution": {
          "iopub.execute_input": "2023-08-04T16:29:10.809027Z",
          "iopub.status.busy": "2023-08-04T16:29:10.807834Z",
          "iopub.status.idle": "2023-08-04T16:29:11.270213Z",
          "shell.execute_reply": "2023-08-04T16:29:11.268863Z"
        },
        "id": "8ca5e488",
        "outputId": "1c72fa90-4376-41d5-e6cd-53e56cdd85be",
        "papermill": {
          "duration": 0.481745,
          "end_time": "2023-08-04T16:29:11.273419",
          "exception": false,
          "start_time": "2023-08-04T16:29:10.791674",
          "status": "completed"
        },
        "tags": []
      },
      "outputs": [
        {
          "data": {
            "image/png": "[encoded data removed]",
            "text/plain": [
              "<Figure size 1000x300 with 4 Axes>"
            ]
          },
          "metadata": {},
          "output_type": "display_data"
        }
      ],
      "source": [
        "_, axes = plt.subplots(nrows = 1, ncols = 4, figsize = (10, 3))\n",
        "for ax, image, label in zip(axes, df.images, df.target):\n",
        "    ax.set_axis_off()\n",
        "    ax.imshow(image, cmap=plt.cm.gray_r, interpolation = 'nearest')\n",
        "    ax.set_title('Training: %i' % label)"
      ]
    },
    {
      "cell_type": "markdown",
      "id": "5bf79b5a",
      "metadata": {
        "id": "5bf79b5a",
        "papermill": {
          "duration": 0.014277,
          "end_time": "2023-08-04T16:29:11.303555",
          "exception": false,
          "start_time": "2023-08-04T16:29:11.289278",
          "status": "completed"
        },
        "tags": []
      },
      "source": [
        "# **Data Preprocessing**"
      ]
    },
    {
      "cell_type": "markdown",
      "id": "5fc3b1a0",
      "metadata": {
        "id": "5fc3b1a0",
        "papermill": {
          "duration": 0.01425,
          "end_time": "2023-08-04T16:29:11.332505",
          "exception": false,
          "start_time": "2023-08-04T16:29:11.318255",
          "status": "completed"
        },
        "tags": []
      },
      "source": [
        "### **Flatten Image**\n"
      ]
    },
    {
      "cell_type": "code",
      "execution_count": null,
      "id": "76104b37",
      "metadata": {
        "execution": {
          "iopub.execute_input": "2023-08-04T16:29:11.364883Z",
          "iopub.status.busy": "2023-08-04T16:29:11.364438Z",
          "iopub.status.idle": "2023-08-04T16:29:11.372740Z",
          "shell.execute_reply": "2023-08-04T16:29:11.371158Z"
        },
        "id": "76104b37",
        "outputId": "9f76471a-f4e1-4953-b09d-c0818aa0468b",
        "papermill": {
          "duration": 0.028083,
          "end_time": "2023-08-04T16:29:11.376034",
          "exception": false,
          "start_time": "2023-08-04T16:29:11.347951",
          "status": "completed"
        },
        "tags": []
      },
      "outputs": [
        {
          "data": {
            "text/plain": [
              "(1797, 8, 8)"
            ]
          },
          "execution_count": 7,
          "metadata": {},
          "output_type": "execute_result"
        }
      ],
      "source": [
        "df.images.shape"
      ]
    },
    {
      "cell_type": "code",
      "execution_count": null,
      "id": "7aa5e6b4",
      "metadata": {
        "execution": {
          "iopub.execute_input": "2023-08-04T16:29:11.409339Z",
          "iopub.status.busy": "2023-08-04T16:29:11.408853Z",
          "iopub.status.idle": "2023-08-04T16:29:11.417707Z",
          "shell.execute_reply": "2023-08-04T16:29:11.416758Z"
        },
        "id": "7aa5e6b4",
        "outputId": "0e90ac06-47f7-4007-ed0f-2c6401922ab8",
        "papermill": {
          "duration": 0.028023,
          "end_time": "2023-08-04T16:29:11.419915",
          "exception": false,
          "start_time": "2023-08-04T16:29:11.391892",
          "status": "completed"
        },
        "tags": []
      },
      "outputs": [
        {
          "data": {
            "text/plain": [
              "array([[ 0.,  0.,  5., 13.,  9.,  1.,  0.,  0.],\n",
              "       [ 0.,  0., 13., 15., 10., 15.,  5.,  0.],\n",
              "       [ 0.,  3., 15.,  2.,  0., 11.,  8.,  0.],\n",
              "       [ 0.,  4., 12.,  0.,  0.,  8.,  8.,  0.],\n",
              "       [ 0.,  5.,  8.,  0.,  0.,  9.,  8.,  0.],\n",
              "       [ 0.,  4., 11.,  0.,  1., 12.,  7.,  0.],\n",
              "       [ 0.,  2., 14.,  5., 10., 12.,  0.,  0.],\n",
              "       [ 0.,  0.,  6., 13., 10.,  0.,  0.,  0.]])"
            ]
          },
          "execution_count": 8,
          "metadata": {},
          "output_type": "execute_result"
        }
      ],
      "source": [
        "df.images[0]"
      ]
    },
    {
      "cell_type": "code",
      "execution_count": null,
      "id": "ab4a5baa",
      "metadata": {
        "execution": {
          "iopub.execute_input": "2023-08-04T16:29:11.452763Z",
          "iopub.status.busy": "2023-08-04T16:29:11.451673Z",
          "iopub.status.idle": "2023-08-04T16:29:11.460088Z",
          "shell.execute_reply": "2023-08-04T16:29:11.458788Z"
        },
        "id": "ab4a5baa",
        "outputId": "6927f82e-e3a5-46e0-c166-4bcbe45e1ba8",
        "papermill": {
          "duration": 0.027836,
          "end_time": "2023-08-04T16:29:11.462876",
          "exception": false,
          "start_time": "2023-08-04T16:29:11.435040",
          "status": "completed"
        },
        "tags": []
      },
      "outputs": [
        {
          "data": {
            "text/plain": [
              "(8, 8)"
            ]
          },
          "execution_count": 9,
          "metadata": {},
          "output_type": "execute_result"
        }
      ],
      "source": [
        "df.images[0].shape"
      ]
    },
    {
      "cell_type": "code",
      "execution_count": null,
      "id": "b7be8277",
      "metadata": {
        "execution": {
          "iopub.execute_input": "2023-08-04T16:29:11.497728Z",
          "iopub.status.busy": "2023-08-04T16:29:11.497257Z",
          "iopub.status.idle": "2023-08-04T16:29:11.503390Z",
          "shell.execute_reply": "2023-08-04T16:29:11.502068Z"
        },
        "id": "b7be8277",
        "papermill": {
          "duration": 0.026704,
          "end_time": "2023-08-04T16:29:11.505833",
          "exception": false,
          "start_time": "2023-08-04T16:29:11.479129",
          "status": "completed"
        },
        "tags": []
      },
      "outputs": [],
      "source": [
        "n_samples = len(df.images)\n",
        "data = df.images.reshape((n_samples, -1))"
      ]
    },
    {
      "cell_type": "code",
      "execution_count": null,
      "id": "17f19599",
      "metadata": {
        "execution": {
          "iopub.execute_input": "2023-08-04T16:29:11.540129Z",
          "iopub.status.busy": "2023-08-04T16:29:11.539301Z",
          "iopub.status.idle": "2023-08-04T16:29:11.547089Z",
          "shell.execute_reply": "2023-08-04T16:29:11.545579Z"
        },
        "id": "17f19599",
        "outputId": "503ab4ec-4519-4b85-d3db-46d40ab6b0cf",
        "papermill": {
          "duration": 0.027619,
          "end_time": "2023-08-04T16:29:11.549747",
          "exception": false,
          "start_time": "2023-08-04T16:29:11.522128",
          "status": "completed"
        },
        "tags": []
      },
      "outputs": [
        {
          "data": {
            "text/plain": [
              "array([ 0.,  0.,  5., 13.,  9.,  1.,  0.,  0.,  0.,  0., 13., 15., 10.,\n",
              "       15.,  5.,  0.,  0.,  3., 15.,  2.,  0., 11.,  8.,  0.,  0.,  4.,\n",
              "       12.,  0.,  0.,  8.,  8.,  0.,  0.,  5.,  8.,  0.,  0.,  9.,  8.,\n",
              "        0.,  0.,  4., 11.,  0.,  1., 12.,  7.,  0.,  0.,  2., 14.,  5.,\n",
              "       10., 12.,  0.,  0.,  0.,  0.,  6., 13., 10.,  0.,  0.,  0.])"
            ]
          },
          "execution_count": 11,
          "metadata": {},
          "output_type": "execute_result"
        }
      ],
      "source": [
        "data[0]\n"
      ]
    },
    {
      "cell_type": "code",
      "execution_count": null,
      "id": "87b9a0ee",
      "metadata": {
        "execution": {
          "iopub.execute_input": "2023-08-04T16:29:11.583398Z",
          "iopub.status.busy": "2023-08-04T16:29:11.582855Z",
          "iopub.status.idle": "2023-08-04T16:29:11.590693Z",
          "shell.execute_reply": "2023-08-04T16:29:11.589301Z"
        },
        "id": "87b9a0ee",
        "outputId": "fb7ee9c8-ba57-41a7-a56f-b2a440451836",
        "papermill": {
          "duration": 0.028,
          "end_time": "2023-08-04T16:29:11.593349",
          "exception": false,
          "start_time": "2023-08-04T16:29:11.565349",
          "status": "completed"
        },
        "tags": []
      },
      "outputs": [
        {
          "data": {
            "text/plain": [
              "(64,)"
            ]
          },
          "execution_count": 12,
          "metadata": {},
          "output_type": "execute_result"
        }
      ],
      "source": [
        "data[0].shape"
      ]
    },
    {
      "cell_type": "code",
      "execution_count": null,
      "id": "530470e7",
      "metadata": {
        "execution": {
          "iopub.execute_input": "2023-08-04T16:29:11.629590Z",
          "iopub.status.busy": "2023-08-04T16:29:11.629084Z",
          "iopub.status.idle": "2023-08-04T16:29:11.636735Z",
          "shell.execute_reply": "2023-08-04T16:29:11.635545Z"
        },
        "id": "530470e7",
        "outputId": "eaeeae6c-83f3-4a67-cc66-d32f30a14f84",
        "papermill": {
          "duration": 0.029176,
          "end_time": "2023-08-04T16:29:11.639540",
          "exception": false,
          "start_time": "2023-08-04T16:29:11.610364",
          "status": "completed"
        },
        "tags": []
      },
      "outputs": [
        {
          "data": {
            "text/plain": [
              "(1797, 64)"
            ]
          },
          "execution_count": 13,
          "metadata": {},
          "output_type": "execute_result"
        }
      ],
      "source": [
        "data.shape"
      ]
    },
    {
      "cell_type": "markdown",
      "id": "a016707c",
      "metadata": {
        "id": "a016707c",
        "papermill": {
          "duration": 0.015228,
          "end_time": "2023-08-04T16:29:11.670774",
          "exception": false,
          "start_time": "2023-08-04T16:29:11.655546",
          "status": "completed"
        },
        "tags": []
      },
      "source": [
        "# **Scaling Data**"
      ]
    },
    {
      "cell_type": "code",
      "execution_count": null,
      "id": "6ca82475",
      "metadata": {
        "execution": {
          "iopub.execute_input": "2023-08-04T16:29:11.705453Z",
          "iopub.status.busy": "2023-08-04T16:29:11.703844Z",
          "iopub.status.idle": "2023-08-04T16:29:11.713038Z",
          "shell.execute_reply": "2023-08-04T16:29:11.711584Z"
        },
        "id": "6ca82475",
        "outputId": "25007115-5a82-4e4f-ebb2-3bd4dafdaf23",
        "papermill": {
          "duration": 0.029115,
          "end_time": "2023-08-04T16:29:11.715543",
          "exception": false,
          "start_time": "2023-08-04T16:29:11.686428",
          "status": "completed"
        },
        "tags": []
      },
      "outputs": [
        {
          "data": {
            "text/plain": [
              "0.0"
            ]
          },
          "execution_count": 14,
          "metadata": {},
          "output_type": "execute_result"
        }
      ],
      "source": [
        "data.min()"
      ]
    },
    {
      "cell_type": "code",
      "execution_count": null,
      "id": "1b155e66",
      "metadata": {
        "execution": {
          "iopub.execute_input": "2023-08-04T16:29:11.751178Z",
          "iopub.status.busy": "2023-08-04T16:29:11.750302Z",
          "iopub.status.idle": "2023-08-04T16:29:11.757287Z",
          "shell.execute_reply": "2023-08-04T16:29:11.756199Z"
        },
        "id": "1b155e66",
        "outputId": "a3d5bdb0-af83-4cbe-817f-2a86191d9e57",
        "papermill": {
          "duration": 0.027286,
          "end_time": "2023-08-04T16:29:11.759882",
          "exception": false,
          "start_time": "2023-08-04T16:29:11.732596",
          "status": "completed"
        },
        "tags": []
      },
      "outputs": [
        {
          "data": {
            "text/plain": [
              "16.0"
            ]
          },
          "execution_count": 15,
          "metadata": {},
          "output_type": "execute_result"
        }
      ],
      "source": [
        "data.max()"
      ]
    },
    {
      "cell_type": "code",
      "execution_count": null,
      "id": "31718956",
      "metadata": {
        "execution": {
          "iopub.execute_input": "2023-08-04T16:29:11.794577Z",
          "iopub.status.busy": "2023-08-04T16:29:11.793706Z",
          "iopub.status.idle": "2023-08-04T16:29:11.798795Z",
          "shell.execute_reply": "2023-08-04T16:29:11.797897Z"
        },
        "id": "31718956",
        "papermill": {
          "duration": 0.025251,
          "end_time": "2023-08-04T16:29:11.801289",
          "exception": false,
          "start_time": "2023-08-04T16:29:11.776038",
          "status": "completed"
        },
        "tags": []
      },
      "outputs": [],
      "source": [
        "data = data/16"
      ]
    },
    {
      "cell_type": "code",
      "execution_count": null,
      "id": "04f420ff",
      "metadata": {
        "execution": {
          "iopub.execute_input": "2023-08-04T16:29:11.835424Z",
          "iopub.status.busy": "2023-08-04T16:29:11.834919Z",
          "iopub.status.idle": "2023-08-04T16:29:11.842865Z",
          "shell.execute_reply": "2023-08-04T16:29:11.841732Z"
        },
        "id": "04f420ff",
        "outputId": "8aec75e1-37cb-4091-fa38-126bc7cb7d6b",
        "papermill": {
          "duration": 0.027765,
          "end_time": "2023-08-04T16:29:11.845194",
          "exception": false,
          "start_time": "2023-08-04T16:29:11.817429",
          "status": "completed"
        },
        "tags": []
      },
      "outputs": [
        {
          "data": {
            "text/plain": [
              "0.0"
            ]
          },
          "execution_count": 17,
          "metadata": {},
          "output_type": "execute_result"
        }
      ],
      "source": [
        "data.min()"
      ]
    },
    {
      "cell_type": "code",
      "execution_count": null,
      "id": "afc26c46",
      "metadata": {
        "execution": {
          "iopub.execute_input": "2023-08-04T16:29:11.880273Z",
          "iopub.status.busy": "2023-08-04T16:29:11.879763Z",
          "iopub.status.idle": "2023-08-04T16:29:11.887895Z",
          "shell.execute_reply": "2023-08-04T16:29:11.886992Z"
        },
        "id": "afc26c46",
        "outputId": "4f734858-ee96-49ff-fdbe-3b4fbb6d0768",
        "papermill": {
          "duration": 0.029228,
          "end_time": "2023-08-04T16:29:11.890870",
          "exception": false,
          "start_time": "2023-08-04T16:29:11.861642",
          "status": "completed"
        },
        "tags": []
      },
      "outputs": [
        {
          "data": {
            "text/plain": [
              "1.0"
            ]
          },
          "execution_count": 18,
          "metadata": {},
          "output_type": "execute_result"
        }
      ],
      "source": [
        "data.max()"
      ]
    },
    {
      "cell_type": "code",
      "execution_count": null,
      "id": "0c8fd408",
      "metadata": {
        "execution": {
          "iopub.execute_input": "2023-08-04T16:29:11.930621Z",
          "iopub.status.busy": "2023-08-04T16:29:11.929226Z",
          "iopub.status.idle": "2023-08-04T16:29:11.939035Z",
          "shell.execute_reply": "2023-08-04T16:29:11.937799Z"
        },
        "id": "0c8fd408",
        "outputId": "c9f614e1-d9e8-41bd-e4cc-183ecb7e8c4f",
        "papermill": {
          "duration": 0.034091,
          "end_time": "2023-08-04T16:29:11.941866",
          "exception": false,
          "start_time": "2023-08-04T16:29:11.907775",
          "status": "completed"
        },
        "tags": []
      },
      "outputs": [
        {
          "data": {
            "text/plain": [
              "array([0.    , 0.    , 0.3125, 0.8125, 0.5625, 0.0625, 0.    , 0.    ,\n",
              "       0.    , 0.    , 0.8125, 0.9375, 0.625 , 0.9375, 0.3125, 0.    ,\n",
              "       0.    , 0.1875, 0.9375, 0.125 , 0.    , 0.6875, 0.5   , 0.    ,\n",
              "       0.    , 0.25  , 0.75  , 0.    , 0.    , 0.5   , 0.5   , 0.    ,\n",
              "       0.    , 0.3125, 0.5   , 0.    , 0.    , 0.5625, 0.5   , 0.    ,\n",
              "       0.    , 0.25  , 0.6875, 0.    , 0.0625, 0.75  , 0.4375, 0.    ,\n",
              "       0.    , 0.125 , 0.875 , 0.3125, 0.625 , 0.75  , 0.    , 0.    ,\n",
              "       0.    , 0.    , 0.375 , 0.8125, 0.625 , 0.    , 0.    , 0.    ])"
            ]
          },
          "execution_count": 19,
          "metadata": {},
          "output_type": "execute_result"
        }
      ],
      "source": [
        "data[0]"
      ]
    },
    {
      "cell_type": "markdown",
      "id": "bc531491",
      "metadata": {
        "id": "bc531491",
        "papermill": {
          "duration": 0.016067,
          "end_time": "2023-08-04T16:29:11.974682",
          "exception": false,
          "start_time": "2023-08-04T16:29:11.958615",
          "status": "completed"
        },
        "tags": []
      },
      "source": [
        "# **Train test split Data**"
      ]
    },
    {
      "cell_type": "code",
      "execution_count": null,
      "id": "84ef0f13",
      "metadata": {
        "execution": {
          "iopub.execute_input": "2023-08-04T16:29:12.010613Z",
          "iopub.status.busy": "2023-08-04T16:29:12.010075Z",
          "iopub.status.idle": "2023-08-04T16:29:12.144197Z",
          "shell.execute_reply": "2023-08-04T16:29:12.142773Z"
        },
        "id": "84ef0f13",
        "papermill": {
          "duration": 0.15583,
          "end_time": "2023-08-04T16:29:12.147466",
          "exception": false,
          "start_time": "2023-08-04T16:29:11.991636",
          "status": "completed"
        },
        "tags": []
      },
      "outputs": [],
      "source": [
        "from sklearn.model_selection import train_test_split"
      ]
    },
    {
      "cell_type": "code",
      "execution_count": null,
      "id": "cf2a0593",
      "metadata": {
        "execution": {
          "iopub.execute_input": "2023-08-04T16:29:12.183554Z",
          "iopub.status.busy": "2023-08-04T16:29:12.182559Z",
          "iopub.status.idle": "2023-08-04T16:29:12.189725Z",
          "shell.execute_reply": "2023-08-04T16:29:12.188580Z"
        },
        "id": "cf2a0593",
        "papermill": {
          "duration": 0.028185,
          "end_time": "2023-08-04T16:29:12.192420",
          "exception": false,
          "start_time": "2023-08-04T16:29:12.164235",
          "status": "completed"
        },
        "tags": []
      },
      "outputs": [],
      "source": [
        "xtrain, xtest, ytrain, ytest = train_test_split(data, df.target, test_size = 0.3)"
      ]
    },
    {
      "cell_type": "code",
      "execution_count": null,
      "id": "6de88b29",
      "metadata": {
        "execution": {
          "iopub.execute_input": "2023-08-04T16:29:12.227993Z",
          "iopub.status.busy": "2023-08-04T16:29:12.227253Z",
          "iopub.status.idle": "2023-08-04T16:29:12.235223Z",
          "shell.execute_reply": "2023-08-04T16:29:12.233989Z"
        },
        "id": "6de88b29",
        "outputId": "8edc723d-b816-4e54-9719-4d85ac2372dd",
        "papermill": {
          "duration": 0.028929,
          "end_time": "2023-08-04T16:29:12.237682",
          "exception": false,
          "start_time": "2023-08-04T16:29:12.208753",
          "status": "completed"
        },
        "tags": []
      },
      "outputs": [
        {
          "data": {
            "text/plain": [
              "((1257, 64), (540, 64), (1257,), (540,))"
            ]
          },
          "execution_count": 22,
          "metadata": {},
          "output_type": "execute_result"
        }
      ],
      "source": [
        "xtrain.shape, xtest.shape, ytrain.shape, ytest.shape"
      ]
    },
    {
      "cell_type": "markdown",
      "id": "789310e3",
      "metadata": {
        "id": "789310e3",
        "papermill": {
          "duration": 0.016029,
          "end_time": "2023-08-04T16:29:12.270223",
          "exception": false,
          "start_time": "2023-08-04T16:29:12.254194",
          "status": "completed"
        },
        "tags": []
      },
      "source": [
        "# **Modeling**"
      ]
    },
    {
      "cell_type": "markdown",
      "id": "658ba8e0",
      "metadata": {
        "id": "658ba8e0",
        "papermill": {
          "duration": 0.016109,
          "end_time": "2023-08-04T16:29:12.302826",
          "exception": false,
          "start_time": "2023-08-04T16:29:12.286717",
          "status": "completed"
        },
        "tags": []
      },
      "source": [
        "### **Random Forest model**"
      ]
    },
    {
      "cell_type": "code",
      "execution_count": null,
      "id": "44ff88f0",
      "metadata": {
        "execution": {
          "iopub.execute_input": "2023-08-04T16:29:12.337932Z",
          "iopub.status.busy": "2023-08-04T16:29:12.337428Z",
          "iopub.status.idle": "2023-08-04T16:29:12.812521Z",
          "shell.execute_reply": "2023-08-04T16:29:12.811429Z"
        },
        "id": "44ff88f0",
        "papermill": {
          "duration": 0.496141,
          "end_time": "2023-08-04T16:29:12.815455",
          "exception": false,
          "start_time": "2023-08-04T16:29:12.319314",
          "status": "completed"
        },
        "tags": []
      },
      "outputs": [],
      "source": [
        "from sklearn.ensemble import RandomForestClassifier"
      ]
    },
    {
      "cell_type": "code",
      "execution_count": null,
      "id": "e1fce3ee",
      "metadata": {
        "execution": {
          "iopub.execute_input": "2023-08-04T16:29:12.851512Z",
          "iopub.status.busy": "2023-08-04T16:29:12.850662Z",
          "iopub.status.idle": "2023-08-04T16:29:12.855286Z",
          "shell.execute_reply": "2023-08-04T16:29:12.854425Z"
        },
        "id": "e1fce3ee",
        "papermill": {
          "duration": 0.025212,
          "end_time": "2023-08-04T16:29:12.857586",
          "exception": false,
          "start_time": "2023-08-04T16:29:12.832374",
          "status": "completed"
        },
        "tags": []
      },
      "outputs": [],
      "source": [
        "rf = RandomForestClassifier()"
      ]
    },
    {
      "cell_type": "markdown",
      "id": "9fe4f9e1",
      "metadata": {
        "id": "9fe4f9e1",
        "papermill": {
          "duration": 0.016209,
          "end_time": "2023-08-04T16:29:12.890487",
          "exception": false,
          "start_time": "2023-08-04T16:29:12.874278",
          "status": "completed"
        },
        "tags": []
      },
      "source": [
        "### **Train or Fit Model**"
      ]
    },
    {
      "cell_type": "code",
      "execution_count": null,
      "id": "1b658f55",
      "metadata": {
        "execution": {
          "iopub.execute_input": "2023-08-04T16:29:12.928373Z",
          "iopub.status.busy": "2023-08-04T16:29:12.927516Z",
          "iopub.status.idle": "2023-08-04T16:29:13.395502Z",
          "shell.execute_reply": "2023-08-04T16:29:13.394097Z"
        },
        "id": "1b658f55",
        "outputId": "da61d3e8-5902-47fa-d9e0-f73c24e1c1e4",
        "papermill": {
          "duration": 0.490882,
          "end_time": "2023-08-04T16:29:13.398241",
          "exception": false,
          "start_time": "2023-08-04T16:29:12.907359",
          "status": "completed"
        },
        "tags": []
      },
      "outputs": [
        {
          "data": {
            "text/html": [
              "<style>#sk-container-id-1 {color: black;background-color: white;}#sk-container-id-1 pre{padding: 0;}#sk-container-id-1 div.sk-toggleable {background-color: white;}#sk-container-id-1 label.sk-toggleable__label {cursor: pointer;display: block;width: 100%;margin-bottom: 0;padding: 0.3em;box-sizing: border-box;text-align: center;}#sk-container-id-1 label.sk-toggleable__label-arrow:before {content: \"▸\";float: left;margin-right: 0.25em;color: #696969;}#sk-container-id-1 label.sk-toggleable__label-arrow:hover:before {color: black;}#sk-container-id-1 div.sk-estimator:hover label.sk-toggleable__label-arrow:before {color: black;}#sk-container-id-1 div.sk-toggleable__content {max-height: 0;max-width: 0;overflow: hidden;text-align: left;background-color: #f0f8ff;}#sk-container-id-1 div.sk-toggleable__content pre {margin: 0.2em;color: black;border-radius: 0.25em;background-color: #f0f8ff;}#sk-container-id-1 input.sk-toggleable__control:checked~div.sk-toggleable__content {max-height: 200px;max-width: 100%;overflow: auto;}#sk-container-id-1 input.sk-toggleable__control:checked~label.sk-toggleable__label-arrow:before {content: \"▾\";}#sk-container-id-1 div.sk-estimator input.sk-toggleable__control:checked~label.sk-toggleable__label {background-color: #d4ebff;}#sk-container-id-1 div.sk-label input.sk-toggleable__control:checked~label.sk-toggleable__label {background-color: #d4ebff;}#sk-container-id-1 input.sk-hidden--visually {border: 0;clip: rect(1px 1px 1px 1px);clip: rect(1px, 1px, 1px, 1px);height: 1px;margin: -1px;overflow: hidden;padding: 0;position: absolute;width: 1px;}#sk-container-id-1 div.sk-estimator {font-family: monospace;background-color: #f0f8ff;border: 1px dotted black;border-radius: 0.25em;box-sizing: border-box;margin-bottom: 0.5em;}#sk-container-id-1 div.sk-estimator:hover {background-color: #d4ebff;}#sk-container-id-1 div.sk-parallel-item::after {content: \"\";width: 100%;border-bottom: 1px solid gray;flex-grow: 1;}#sk-container-id-1 div.sk-label:hover label.sk-toggleable__label {background-color: #d4ebff;}#sk-container-id-1 div.sk-serial::before {content: \"\";position: absolute;border-left: 1px solid gray;box-sizing: border-box;top: 0;bottom: 0;left: 50%;z-index: 0;}#sk-container-id-1 div.sk-serial {display: flex;flex-direction: column;align-items: center;background-color: white;padding-right: 0.2em;padding-left: 0.2em;position: relative;}#sk-container-id-1 div.sk-item {position: relative;z-index: 1;}#sk-container-id-1 div.sk-parallel {display: flex;align-items: stretch;justify-content: center;background-color: white;position: relative;}#sk-container-id-1 div.sk-item::before, #sk-container-id-1 div.sk-parallel-item::before {content: \"\";position: absolute;border-left: 1px solid gray;box-sizing: border-box;top: 0;bottom: 0;left: 50%;z-index: -1;}#sk-container-id-1 div.sk-parallel-item {display: flex;flex-direction: column;z-index: 1;position: relative;background-color: white;}#sk-container-id-1 div.sk-parallel-item:first-child::after {align-self: flex-end;width: 50%;}#sk-container-id-1 div.sk-parallel-item:last-child::after {align-self: flex-start;width: 50%;}#sk-container-id-1 div.sk-parallel-item:only-child::after {width: 0;}#sk-container-id-1 div.sk-dashed-wrapped {border: 1px dashed gray;margin: 0 0.4em 0.5em 0.4em;box-sizing: border-box;padding-bottom: 0.4em;background-color: white;}#sk-container-id-1 div.sk-label label {font-family: monospace;font-weight: bold;display: inline-block;line-height: 1.2em;}#sk-container-id-1 div.sk-label-container {text-align: center;}#sk-container-id-1 div.sk-container {/* jupyter's `normalize.less` sets `[hidden] { display: none; }` but bootstrap.min.css set `[hidden] { display: none !important; }` so we also need the `!important` here to be able to override the default hidden behavior on the sphinx rendered scikit-learn.org. See: https://github.com/scikit-learn/scikit-learn/issues/21755 */display: inline-block !important;position: relative;}#sk-container-id-1 div.sk-text-repr-fallback {display: none;}</style><div id=\"sk-container-id-1\" class=\"sk-top-container\"><div class=\"sk-text-repr-fallback\"><pre>RandomForestClassifier()</pre><b>In a Jupyter environment, please rerun this cell to show the HTML representation or trust the notebook. <br />On GitHub, the HTML representation is unable to render, please try loading this page with nbviewer.org.</b></div><div class=\"sk-container\" hidden><div class=\"sk-item\"><div class=\"sk-estimator sk-toggleable\"><input class=\"sk-toggleable__control sk-hidden--visually\" id=\"sk-estimator-id-1\" type=\"checkbox\" checked><label for=\"sk-estimator-id-1\" class=\"sk-toggleable__label sk-toggleable__label-arrow\">RandomForestClassifier</label><div class=\"sk-toggleable__content\"><pre>RandomForestClassifier()</pre></div></div></div></div></div>"
            ],
            "text/plain": [
              "RandomForestClassifier()"
            ]
          },
          "execution_count": 25,
          "metadata": {},
          "output_type": "execute_result"
        }
      ],
      "source": [
        "rf.fit(xtrain, ytrain)"
      ]
    },
    {
      "cell_type": "markdown",
      "id": "fb8a7f09",
      "metadata": {
        "id": "fb8a7f09",
        "papermill": {
          "duration": 0.016487,
          "end_time": "2023-08-04T16:29:13.432273",
          "exception": false,
          "start_time": "2023-08-04T16:29:13.415786",
          "status": "completed"
        },
        "tags": []
      },
      "source": [
        "# **Prediction**"
      ]
    },
    {
      "cell_type": "markdown",
      "id": "efe0cb73",
      "metadata": {
        "id": "efe0cb73",
        "papermill": {
          "duration": 0.01709,
          "end_time": "2023-08-04T16:29:13.466119",
          "exception": false,
          "start_time": "2023-08-04T16:29:13.449029",
          "status": "completed"
        },
        "tags": []
      },
      "source": [
        "### **Predict Test Data**"
      ]
    },
    {
      "cell_type": "code",
      "execution_count": null,
      "id": "f9362ac7",
      "metadata": {
        "execution": {
          "iopub.execute_input": "2023-08-04T16:29:13.503172Z",
          "iopub.status.busy": "2023-08-04T16:29:13.502660Z",
          "iopub.status.idle": "2023-08-04T16:29:13.535187Z",
          "shell.execute_reply": "2023-08-04T16:29:13.533757Z"
        },
        "id": "f9362ac7",
        "papermill": {
          "duration": 0.054812,
          "end_time": "2023-08-04T16:29:13.538339",
          "exception": false,
          "start_time": "2023-08-04T16:29:13.483527",
          "status": "completed"
        },
        "tags": []
      },
      "outputs": [],
      "source": [
        "y_pred = rf.predict(xtest)"
      ]
    },
    {
      "cell_type": "code",
      "execution_count": null,
      "id": "8fb0b731",
      "metadata": {
        "execution": {
          "iopub.execute_input": "2023-08-04T16:29:13.575311Z",
          "iopub.status.busy": "2023-08-04T16:29:13.574800Z",
          "iopub.status.idle": "2023-08-04T16:29:13.584853Z",
          "shell.execute_reply": "2023-08-04T16:29:13.583361Z"
        },
        "id": "8fb0b731",
        "outputId": "081b94a0-1398-4f61-b332-f74b5eb8d431",
        "papermill": {
          "duration": 0.031923,
          "end_time": "2023-08-04T16:29:13.587466",
          "exception": false,
          "start_time": "2023-08-04T16:29:13.555543",
          "status": "completed"
        },
        "tags": []
      },
      "outputs": [
        {
          "data": {
            "text/plain": [
              "array([2, 6, 6, 7, 6, 4, 7, 7, 1, 0, 5, 7, 3, 9, 5, 0, 8, 9, 8, 0, 0, 3,\n",
              "       3, 0, 6, 0, 7, 8, 4, 3, 5, 6, 5, 5, 2, 2, 6, 7, 7, 6, 1, 5, 9, 0,\n",
              "       4, 3, 8, 1, 4, 1, 9, 6, 7, 1, 0, 0, 6, 8, 7, 3, 6, 6, 5, 6, 4, 4,\n",
              "       4, 0, 6, 6, 7, 2, 0, 7, 9, 1, 7, 3, 3, 7, 6, 0, 1, 6, 7, 0, 9, 5,\n",
              "       9, 4, 1, 0, 4, 9, 1, 3, 2, 0, 8, 6, 0, 3, 8, 2, 6, 1, 2, 9, 4, 3,\n",
              "       4, 0, 6, 4, 2, 2, 7, 8, 3, 9, 8, 7, 3, 4, 1, 7, 5, 4, 4, 7, 6, 4,\n",
              "       7, 7, 9, 5, 7, 9, 9, 6, 3, 2, 6, 5, 9, 4, 5, 1, 4, 6, 9, 8, 3, 7,\n",
              "       3, 2, 9, 5, 8, 4, 8, 6, 3, 8, 8, 7, 2, 0, 0, 0, 5, 5, 6, 7, 5, 8,\n",
              "       7, 9, 7, 9, 4, 0, 7, 1, 9, 0, 1, 4, 1, 8, 4, 4, 2, 3, 8, 1, 8, 2,\n",
              "       6, 4, 4, 3, 9, 0, 8, 6, 0, 7, 7, 8, 6, 6, 4, 6, 8, 5, 9, 4, 4, 7,\n",
              "       8, 6, 8, 0, 2, 3, 0, 4, 8, 8, 0, 3, 9, 0, 2, 3, 9, 3, 5, 7, 8, 4,\n",
              "       3, 6, 2, 0, 1, 6, 4, 6, 1, 2, 1, 0, 9, 3, 5, 1, 9, 5, 7, 3, 4, 4,\n",
              "       9, 0, 4, 9, 2, 6, 5, 1, 5, 7, 5, 9, 7, 3, 3, 1, 3, 9, 7, 8, 3, 7,\n",
              "       9, 7, 5, 7, 6, 9, 0, 1, 5, 5, 3, 2, 6, 6, 5, 1, 5, 5, 2, 2, 0, 3,\n",
              "       6, 1, 5, 3, 9, 1, 2, 4, 1, 9, 8, 1, 8, 1, 6, 8, 6, 3, 0, 4, 1, 6,\n",
              "       9, 1, 3, 5, 4, 1, 0, 9, 4, 3, 5, 7, 8, 5, 0, 5, 1, 4, 3, 3, 0, 1,\n",
              "       3, 0, 4, 9, 3, 0, 0, 2, 2, 0, 3, 6, 0, 4, 0, 6, 3, 3, 6, 4, 8, 1,\n",
              "       1, 2, 4, 3, 5, 7, 1, 8, 2, 7, 5, 6, 8, 5, 4, 0, 3, 2, 1, 8, 9, 9,\n",
              "       1, 7, 0, 2, 0, 0, 7, 7, 0, 7, 1, 5, 0, 6, 5, 9, 7, 0, 0, 5, 6, 9,\n",
              "       9, 6, 4, 7, 5, 3, 7, 5, 5, 5, 5, 7, 5, 0, 7, 4, 5, 8, 8, 0, 3, 3,\n",
              "       6, 3, 8, 2, 1, 5, 6, 6, 7, 1, 2, 5, 3, 2, 1, 9, 9, 3, 9, 8, 6, 1,\n",
              "       0, 3, 7, 5, 1, 9, 5, 9, 0, 4, 5, 3, 2, 7, 9, 9, 7, 5, 0, 8, 1, 5,\n",
              "       9, 5, 3, 3, 2, 4, 0, 3, 2, 4, 1, 1, 2, 0, 9, 4, 5, 6, 3, 4, 8, 4,\n",
              "       6, 7, 1, 2, 7, 8, 5, 9, 1, 9, 0, 7, 9, 9, 5, 2, 5, 3, 3, 7, 8, 7,\n",
              "       6, 8, 3, 5, 7, 4, 0, 9, 1, 6, 2, 0])"
            ]
          },
          "execution_count": 27,
          "metadata": {},
          "output_type": "execute_result"
        }
      ],
      "source": [
        "y_pred"
      ]
    },
    {
      "cell_type": "markdown",
      "id": "e30026ac",
      "metadata": {
        "id": "e30026ac",
        "papermill": {
          "duration": 0.017529,
          "end_time": "2023-08-04T16:29:13.622843",
          "exception": false,
          "start_time": "2023-08-04T16:29:13.605314",
          "status": "completed"
        },
        "tags": []
      },
      "source": [
        "#  **Model Evaluation**"
      ]
    },
    {
      "cell_type": "markdown",
      "id": "e7abe6e1",
      "metadata": {
        "id": "e7abe6e1",
        "papermill": {
          "duration": 0.016627,
          "end_time": "2023-08-04T16:29:13.656652",
          "exception": false,
          "start_time": "2023-08-04T16:29:13.640025",
          "status": "completed"
        },
        "tags": []
      },
      "source": [
        "### **Model Accuracy**"
      ]
    },
    {
      "cell_type": "code",
      "execution_count": null,
      "id": "e839e15a",
      "metadata": {
        "execution": {
          "iopub.execute_input": "2023-08-04T16:29:13.693083Z",
          "iopub.status.busy": "2023-08-04T16:29:13.692581Z",
          "iopub.status.idle": "2023-08-04T16:29:13.698632Z",
          "shell.execute_reply": "2023-08-04T16:29:13.697297Z"
        },
        "id": "e839e15a",
        "papermill": {
          "duration": 0.027431,
          "end_time": "2023-08-04T16:29:13.701200",
          "exception": false,
          "start_time": "2023-08-04T16:29:13.673769",
          "status": "completed"
        },
        "tags": []
      },
      "outputs": [],
      "source": [
        "from sklearn.metrics import confusion_matrix, classification_report"
      ]
    },
    {
      "cell_type": "code",
      "execution_count": null,
      "id": "07346ad2",
      "metadata": {
        "execution": {
          "iopub.execute_input": "2023-08-04T16:29:13.739157Z",
          "iopub.status.busy": "2023-08-04T16:29:13.738605Z",
          "iopub.status.idle": "2023-08-04T16:29:13.750060Z",
          "shell.execute_reply": "2023-08-04T16:29:13.748780Z"
        },
        "id": "07346ad2",
        "outputId": "cf461f37-0cc5-43ab-c0b5-dc7397e93a7c",
        "papermill": {
          "duration": 0.033949,
          "end_time": "2023-08-04T16:29:13.752806",
          "exception": false,
          "start_time": "2023-08-04T16:29:13.718857",
          "status": "completed"
        },
        "tags": []
      },
      "outputs": [
        {
          "data": {
            "text/plain": [
              "array([[61,  0,  0,  0,  0,  0,  0,  0,  0,  0],\n",
              "       [ 0, 51,  0,  0,  0,  0,  0,  0,  0,  0],\n",
              "       [ 0,  0, 39,  0,  0,  0,  0,  0,  0,  0],\n",
              "       [ 0,  0,  0, 60,  0,  0,  0,  0,  0,  0],\n",
              "       [ 0,  0,  0,  0, 51,  0,  0,  3,  0,  0],\n",
              "       [ 0,  0,  0,  0,  1, 59,  0,  0,  0,  0],\n",
              "       [ 0,  0,  0,  0,  0,  0, 57,  0,  0,  0],\n",
              "       [ 0,  0,  0,  0,  1,  0,  0, 57,  1,  0],\n",
              "       [ 0,  0,  0,  0,  0,  0,  0,  0, 43,  0],\n",
              "       [ 0,  0,  0,  0,  0,  1,  0,  0,  0, 55]])"
            ]
          },
          "execution_count": 29,
          "metadata": {},
          "output_type": "execute_result"
        }
      ],
      "source": [
        "confusion_matrix(ytest, y_pred)"
      ]
    },
    {
      "cell_type": "code",
      "execution_count": null,
      "id": "8bf55a44",
      "metadata": {
        "execution": {
          "iopub.execute_input": "2023-08-04T16:29:13.790685Z",
          "iopub.status.busy": "2023-08-04T16:29:13.789779Z",
          "iopub.status.idle": "2023-08-04T16:29:13.807238Z",
          "shell.execute_reply": "2023-08-04T16:29:13.805669Z"
        },
        "id": "8bf55a44",
        "outputId": "da391975-0d03-4aca-ec74-fe294d7ee90c",
        "papermill": {
          "duration": 0.039533,
          "end_time": "2023-08-04T16:29:13.810371",
          "exception": false,
          "start_time": "2023-08-04T16:29:13.770838",
          "status": "completed"
        },
        "tags": []
      },
      "outputs": [
        {
          "name": "stdout",
          "output_type": "stream",
          "text": [
            "              precision    recall  f1-score   support\n",
            "\n",
            "           0       1.00      1.00      1.00        61\n",
            "           1       1.00      1.00      1.00        51\n",
            "           2       1.00      1.00      1.00        39\n",
            "           3       1.00      1.00      1.00        60\n",
            "           4       0.96      0.94      0.95        54\n",
            "           5       0.98      0.98      0.98        60\n",
            "           6       1.00      1.00      1.00        57\n",
            "           7       0.95      0.97      0.96        59\n",
            "           8       0.98      1.00      0.99        43\n",
            "           9       1.00      0.98      0.99        56\n",
            "\n",
            "    accuracy                           0.99       540\n",
            "   macro avg       0.99      0.99      0.99       540\n",
            "weighted avg       0.99      0.99      0.99       540\n",
            "\n"
          ]
        }
      ],
      "source": [
        "print(classification_report(ytest, y_pred))"
      ]
    },
    {
      "cell_type": "markdown",
      "id": "7c177845",
      "metadata": {
        "id": "7c177845",
        "papermill": {
          "duration": 0.019,
          "end_time": "2023-08-04T16:29:13.849506",
          "exception": false,
          "start_time": "2023-08-04T16:29:13.830506",
          "status": "completed"
        },
        "tags": []
      },
      "source": [
        "# **Explaination**"
      ]
    },
    {
      "cell_type": "markdown",
      "id": "89d7b605",
      "metadata": {
        "id": "89d7b605",
        "papermill": {
          "duration": 0.017396,
          "end_time": "2023-08-04T16:29:13.884932",
          "exception": false,
          "start_time": "2023-08-04T16:29:13.867536",
          "status": "completed"
        },
        "tags": []
      },
      "source": [
        "Handwritten Digit Prediction, or Digit Classification, is like training a computer to read and understand handwritten numbers, similar to how we recognize them ourselves. Imagine you have a bunch of pictures, each showing a handwritten digit from 0 to 9. The goal is to teach the computer how to look at these pictures and figure out which digit is in each one. We split our pictures into two groups: one set to teach the computer (training set) and another to test its skills (testing set). We choose a smart method, like a special problem-solving recipe, for the computer to learn the patterns and differences in the pictures. As it learns, we guide it by telling whether its guesses are right or wrong. Once it masters this skill, we give it new pictures it hasn't seen during training, and it tries its best to guess the correct digit. We check its guesses to see how well it's doing, using simple checks to see if it's getting the numbers correct. This project helps us build a computer that can recognize handwritten digits, which has practical uses like reading postal codes or helping computers understand our handwriting. It's like teaching the computer to read your handwriting."
      ]
    }
  ],
  "metadata": {
    "kernelspec": {
      "display_name": "Python 3",
      "language": "python",
      "name": "python3"
    },
    "language_info": {
      "codemirror_mode": {
        "name": "ipython",
        "version": 3
      },
      "file_extension": ".py",
      "mimetype": "text/x-python",
      "name": "python",
      "nbconvert_exporter": "python",
      "pygments_lexer": "ipython3",
      "version": "3.10.12"
    },
    "papermill": {
      "default_parameters": {},
      "duration": 19.690526,
      "end_time": "2023-08-04T16:29:15.129709",
      "environment_variables": {},
      "exception": null,
      "input_path": "__notebook__.ipynb",
      "output_path": "__notebook__.ipynb",
      "parameters": {},
      "start_time": "2023-08-04T16:28:55.439183",
      "version": "2.4.0"
    },
    "colab": {
      "provenance": []
    }
  },
  "nbformat": 4,
  "nbformat_minor": 5
}